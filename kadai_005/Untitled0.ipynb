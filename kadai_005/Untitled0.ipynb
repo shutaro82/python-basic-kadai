{
  "cells": [
    {
      "cell_type": "code",
      "execution_count": 4,
      "metadata": {
        "colab": {
          "base_uri": "https://localhost:8080/"
        },
        "id": "InH_ThJ41RVJ",
        "outputId": "315192cb-077d-424a-b51d-ffd589a88a40"
      },
      "outputs": [
        {
          "name": "stdout",
          "output_type": "stream",
          "text": [
            "上辺：10cm\n",
            "下辺：20cm\n",
            "高さ：5cm\n",
            "面積：75.0cm²\n"
          ]
        }
      ],
      "source": [
        "print(\"上辺：\" + str(10) + \"cm\")\n",
        "print(\"下辺：\" + str(20) + \"cm\")\n",
        "print(\"高さ：\" + str(5) + \"cm\")\n",
        "\n",
        "area = (10 + 20) * 5 / 2\n",
        "unit = \"cm²\"\n",
        "print(\"面積：\" + str(area) + unit)"
      ]
    }
  ],
  "metadata": {
    "colab": {
      "provenance": []
    },
    "kernelspec": {
      "display_name": "Python 3",
      "name": "python3"
    },
    "language_info": {
      "name": "python"
    }
  },
  "nbformat": 4,
  "nbformat_minor": 0
}
