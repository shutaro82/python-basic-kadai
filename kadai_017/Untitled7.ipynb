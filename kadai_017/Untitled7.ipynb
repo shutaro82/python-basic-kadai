{
  "nbformat": 4,
  "nbformat_minor": 0,
  "metadata": {
    "colab": {
      "provenance": []
    },
    "kernelspec": {
      "name": "python3",
      "display_name": "Python 3"
    },
    "language_info": {
      "name": "python"
    }
  },
  "cells": [
    {
      "cell_type": "code",
      "execution_count": 30,
      "metadata": {
        "colab": {
          "base_uri": "https://localhost:8080/"
        },
        "id": "cjfwrL_YsiZA",
        "outputId": "71ab7118-a45f-483b-8981-d43676e360a2"
      },
      "outputs": [
        {
          "output_type": "stream",
          "name": "stdout",
          "text": [
            "佐藤は大人\n",
            "鈴木は大人でない\n",
            "木村は大人\n"
          ]
        }
      ],
      "source": [
        "human_ages = {\"佐藤\": 32, \"鈴木\": 18, \"木村\": 24}\n",
        "class Human:\n",
        "    def __init__(self, name, age):\n",
        "        self.name = name\n",
        "        self.age = age\n",
        "\n",
        "    def check_adult(self):\n",
        "        if self.age >= 20:\n",
        "            print(f\"{self.name}は大人\")\n",
        "        else:\n",
        "            print(f\"{self.name}は大人でない\")\n",
        "\n",
        "adult = []\n",
        "for name, age in human_ages.items():\n",
        "    human = Human(name, age)\n",
        "    adult.append(human)\n",
        "\n",
        "for human in adult:\n",
        "    human.check_adult()"
      ]
    }
  ]
}