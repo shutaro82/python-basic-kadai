{
  "nbformat": 4,
  "nbformat_minor": 0,
  "metadata": {
    "colab": {
      "provenance": []
    },
    "kernelspec": {
      "name": "python3",
      "display_name": "Python 3"
    },
    "language_info": {
      "name": "python"
    }
  },
  "cells": [
    {
      "cell_type": "code",
      "execution_count": 2,
      "metadata": {
        "colab": {
          "base_uri": "https://localhost:8080/"
        },
        "id": "ggm_pUNxDo0v",
        "outputId": "12b2fd17-5124-424c-e45c-8de4f4c44058"
      },
      "outputs": [
        {
          "output_type": "stream",
          "name": "stdout",
          "text": [
            "1620.0円\n"
          ]
        }
      ],
      "source": [
        "def calculate_total(price,shipping_fee):\n",
        "    total = price * shipping_fee\n",
        "\n",
        "    print(f\"{total}円\")\n",
        "\n",
        "calculate_total(1800,0.9)"
      ]
    }
  ]
}