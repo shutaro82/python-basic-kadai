{
  "nbformat": 4,
  "nbformat_minor": 0,
  "metadata": {
    "colab": {
      "provenance": []
    },
    "kernelspec": {
      "name": "python3",
      "display_name": "Python 3"
    },
    "language_info": {
      "name": "python"
    }
  },
  "cells": [
    {
      "cell_type": "code",
      "execution_count": 6,
      "metadata": {
        "colab": {
          "base_uri": "https://localhost:8080/"
        },
        "id": "ggm_pUNxDo0v",
        "outputId": "db6b0557-62b4-416e-c216-bf33e3cc4f7e"
      },
      "outputs": [
        {
          "output_type": "stream",
          "name": "stdout",
          "text": [
            "1620.0\n"
          ]
        }
      ],
      "source": [
        "def calculate_total(price,shipping_fee):\n",
        "    total = price * shipping_fee\n",
        "    return total\n",
        "\n",
        "result = calculate_total(1800,0.9)\n",
        "print(result)\n"
      ]
    }
  ]
}